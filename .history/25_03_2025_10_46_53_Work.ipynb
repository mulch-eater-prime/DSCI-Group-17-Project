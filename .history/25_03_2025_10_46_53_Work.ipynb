{
 "cells": [
  {
   "cell_type": "markdown",
   "id": "3456763b-32ce-451f-9656-3124694b54ff",
   "metadata": {},
   "source": [
    "# DSCI 100 Group 17 Final Project - Predicting Experience Level as a Means to Target Minecraft Players for Recruitment"
   ]
  },
  {
   "cell_type": "markdown",
   "id": "b5728839-ca56-47da-a94d-5e89e447b78b",
   "metadata": {},
   "source": [
    "### Introduction to Data Science in Player Behavior Analysis\n",
    "\n",
    "Under the direction of Frank Wood, a computer science research team at UBC is gathering information on video game play. Their team has collected player and session data with the hopes that it will be helpful in focusing their recruitment efforts and ensureing that they have sufficient resources (such as server hardware and software licenses) to manage the volume of players they draw in. Here we will address if any correlations can be found between a Minecraft player's habits and the data that has been collected from the open-world Minecraft server and we would like to know which \"kinds\" of players are most likely to contribute a large amount of data so that we can target those players in our recruiting efforts; specifically **how can session start and end time help to predict the experience level of an individual Minecraft player** so we know where to target advertisements (i.e, at a professional gaming event vs. on kids youtube channels). The two data we sets we use come in the form of CSV files (which we have converted to html files for accessibility), the player's data set with 7 variables; experience, subscribe, hashedEmail, played_hours, name, gender, and age, the sessions data set with 5 variables; hashedEmail, start_time, end_time, original_start_time, and orginial_end_time. Players have around 100 observations while has about 1500 observations. The data is collected from Minecraft game logs and linked to their profile information under the hashedEmail, and we will use this alongside start_time, and end_time to predict experience through reading, wrangling, and clustering. These three key steps: data ingestion, preprocessing, and supervised learning, form the foundation of our analysis."
   ]
  },
  {
   "cell_type": "code",
   "execution_count": null,
   "id": "e440e72f-2910-49ef-a5c9-83b345d207c5",
   "metadata": {},
   "outputs": [],
   "source": [
    "library(tidyverse)\n",
    "library(repr)\n",
    "library(tidymodels)\n",
    "library(lubridate)\n",
    "options(repr.matrix.max.rows = 6)"
   ]
  },
  {
   "cell_type": "code",
   "execution_count": null,
   "id": "f84b610c-993a-42a0-9fe7-510f9bc1ec00",
   "metadata": {},
   "outputs": [],
   "source": [
    "player_url <- \"https://raw.githubusercontent.com/mulch-eater-prime/DSCI-Group-17-Project/refs/heads/main/players%20(1).csv\"\n",
    "player <- read_csv(player_url)\n",
    "player"
   ]
  },
  {
   "cell_type": "code",
   "execution_count": null,
   "id": "9bdcc059-d5a0-4f1b-9009-fda5f7134c19",
   "metadata": {},
   "outputs": [],
   "source": [
    "sessions_url <- \"https://raw.githubusercontent.com/mulch-eater-prime/DSCI-Group-17-Project/03abe89c68205649e71bfa9b8a9cf90efe553b24/sessions%20(1).csv\"\n",
    "sessions <- read_csv(sessions_url)\n",
    "sessions"
   ]
  },
  {
   "cell_type": "code",
   "execution_count": null,
   "id": "82d43f8f-2028-4480-9260-ade8074d5082",
   "metadata": {},
   "outputs": [],
   "source": [
    "mashup <- player |>\n",
    "    select(hashedEmail, experience, played_hours) |>\n",
    "    merge(sessions, by = \"hashedEmail\") |>\n",
    "    select(hashedEmail:end_time) |>\n",
    "    separate(col = start_time, into = c(\"start_date\", \"start_time\"), sep = \" \") |>\n",
    "    separate(col = end_time, into = c(\"end_date\", \"end_time\"), sep = \" \") |>\n",
    "    select(experience, start_time, end_time, played_hours, hashedEmail)\n",
    "mashup"
   ]
  },
  {
   "cell_type": "code",
   "execution_count": null,
   "id": "9e222205-cb4d-4064-ae3b-63ea6be3e0f1",
   "metadata": {},
   "outputs": [],
   "source": [
    "msm <- mashup |>\n",
    "    separate(col = start_time, into = c(\"start_hour\", \"start_minute\"), sep = \":\") |>\n",
    "    separate(col = end_time, into = c(\"end_hour\", \"end_minute\"), sep = \":\") |>\n",
    "    mutate(start_hour = as.numeric(start_hour)) |>\n",
    "    mutate(start_minute = as.numeric(start_minute)) |>\n",
    "    mutate(end_hour = as.numeric(end_hour)) |>\n",
    "    mutate(end_minute = as.numeric(end_minute))\n",
    "msm"
   ]
  },
  {
   "cell_type": "code",
   "execution_count": null,
   "id": "f12e9f05-fef0-4b9b-863a-6e9e9c0f53af",
   "metadata": {},
   "outputs": [],
   "source": [
    "msm_calc <- msm |>\n",
    "    mutate(start_msm = start_hour*60 + start_minute) |>\n",
    "    mutate(end_msm = end_hour * 60 + end_minute) |>\n",
    "    mutate(playtime = end_msm - start_msm) |>\n",
    "    select(experience, start_msm, end_msm, playtime, played_hours, hashedEmail)\n",
    "msm_calc"
   ]
  },
  {
   "cell_type": "code",
   "execution_count": null,
   "id": "6265dbee-1c01-4b1d-ad08-cb444920ea00",
   "metadata": {},
   "outputs": [],
   "source": [
    "options(repr.plot.width = 13, repr.plot.height = 10)\n",
    "msm_plot <- msm_calc |> ggplot(aes(x = start_msm, y = end_msm, color = experience)) +\n",
    "    geom_point(alpha = 0.25) + \n",
    "    labs(x = \"Start Time (Minutes Since Midnight)\", y = \"End Time (Minutes Since Midnight)\", color = \"Experince Level\") +\n",
    "    theme(text = element_text(size = 15))\n",
    "msm_plot"
   ]
  },
  {
   "cell_type": "code",
   "execution_count": null,
   "id": "d4b50710-d2d6-431e-b658-c8a69b208bd4",
   "metadata": {},
   "outputs": [],
   "source": [
    "player_new <- player |> select(hashedEmail, experience)\n",
    "msm_new_1 <- msm_calc |> select(hashedEmail, start_msm) |>\n",
    "    group_by(hashedEmail) |>\n",
    "    summarize(start = mean(start_msm))\n",
    "msm_new_2 <- msm_calc |> select(hashedEmail, end_msm) |>\n",
    "    group_by(hashedEmail) |>\n",
    "    summarize(end = mean(end_msm))\n",
    "msm_new <- msm_new_1 |> merge(msm_new_2, by = \"hashedEmail\") |>\n",
    "    merge(player_new, by = \"hashedEmail\")\n",
    "msm_new\n",
    "options(repr.plot.width = 8, repr.plot.height = 6)\n",
    "\n",
    "new_plot <- msm_new |> ggplot(aes(x = start, y = end, color = experience)) +\n",
    "    geom_point(alpha = 0.6) +\n",
    "    labs(x = \"Start Time (minutes since midnight)\", y = \"End Time (minutes since midnight)\", color = \"experience level\")\n",
    "new_plot"
   ]
  },
  {
   "cell_type": "code",
   "execution_count": null,
   "id": "d9b267f9-e777-465d-82ed-99d4b478777f",
   "metadata": {},
   "outputs": [],
   "source": [
    "minecraft_split <- initial_split(msm_new, prop = 0.75, strata = experience)\n",
    "minecraft_train <- training(minecraft_split)\n",
    "minecraft_test <- testing(minecraft_split)\n",
    "\n",
    "minecraft_recipe <- recipe(experience ~ start + end, data = minecraft_train) |>\n",
    "    step_scale(all_predictors()) |>\n",
    "    step_center(all_predictors())\n",
    "\n",
    "minecraft_spec <- nearest_neighbor(weight_func = \"rectangular\", neighbors = tune()) |>\n",
    "    set_engine(\"kknn\") |>\n",
    "    set_mode(\"classification\")\n",
    "\n",
    "minecraft_vfold <- vfold_cv(minecraft_train, v = 10, strata = experience)\n",
    "\n",
    "k_vals <- tibble(neighbors = seq(from = 1, to = 75, by = 5))\n",
    "\n",
    "minecraft_results <- workflow() |>\n",
    "    add_recipe(minecraft_recipe) |>\n",
    "    add_model(minecraft_spec) |>\n",
    "    tune_grid(resamples = minecraft_vfold, grid = k_vals) |>\n",
    "    collect_metrics() |>\n",
    "    filter(.metric == \"accuracy\")\n",
    "minecraft_results"
   ]
  },
  {
   "cell_type": "code",
   "execution_count": null,
   "id": "e9dc2cd8-fea6-41d1-94f9-f2979e3fa4ae",
   "metadata": {},
   "outputs": [],
   "source": [
    "minecraft_best_k <- minecraft_results |> ggplot(aes(x = neighbors, y = mean)) +\n",
    "    geom_point() + geom_line() + \n",
    "    labs(x = \"Neighbors\", y = \"Accuracy\") +\n",
    "    theme(text = element_text(size = 15))\n",
    "minecraft_best_k\n",
    "\n",
    "minecraft_k <- minecraft_results |> arrange(desc(mean)) |>\n",
    "    head(1) |> \n",
    "    pull(neighbors)\n",
    "minecraft_k"
   ]
  },
  {
   "cell_type": "code",
   "execution_count": null,
   "id": "f66ac7ca-4ab6-4dfe-b71c-195430b5f4f7",
   "metadata": {},
   "outputs": [],
   "source": []
  }
 ],
 "metadata": {
  "kernelspec": {
   "display_name": "R",
   "language": "R",
   "name": "ir"
  },
  "language_info": {
   "codemirror_mode": "r",
   "file_extension": ".r",
   "mimetype": "text/x-r-source",
   "name": "R",
   "pygments_lexer": "r",
   "version": "4.3.3"
  }
 },
 "nbformat": 4,
 "nbformat_minor": 5
}
