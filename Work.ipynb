{
 "cells": [
  {
   "cell_type": "code",
   "execution_count": null,
   "id": "c4167e96-ee84-4f76-9b8b-d119744ee631",
   "metadata": {},
   "outputs": [],
   "source": [
    "library(tidyverse)\n",
    "library(repr)\n",
    "library(tidymodels)\n",
    "options(repr.matrix.max.rows = 6)\n",
    "source('cleanup.R')"
   ]
  },
  {
   "cell_type": "code",
   "execution_count": null,
   "id": "f84b610c-993a-42a0-9fe7-510f9bc1ec00",
   "metadata": {},
   "outputs": [],
   "source": [
    "players <- read_csv(\"file/players.csv\")\n",
    "players"
   ]
  },
  {
   "cell_type": "code",
   "execution_count": null,
   "id": "9bdcc059-d5a0-4f1b-9009-fda5f7134c19",
   "metadata": {},
   "outputs": [],
   "source": [
    "sessions <- read_csv(\"file/sessions.csv\")\n",
    "sessions"
   ]
  },
  {
   "cell_type": "code",
   "execution_count": null,
   "id": "82d43f8f-2028-4480-9260-ade8074d5082",
   "metadata": {},
   "outputs": [],
   "source": []
  }
 ],
 "metadata": {
  "kernelspec": {
   "display_name": "R",
   "language": "R",
   "name": "ir"
  },
  "language_info": {
   "codemirror_mode": "r",
   "file_extension": ".r",
   "mimetype": "text/x-r-source",
   "name": "R",
   "pygments_lexer": "r",
   "version": "4.3.3"
  }
 },
 "nbformat": 4,
 "nbformat_minor": 5
}
